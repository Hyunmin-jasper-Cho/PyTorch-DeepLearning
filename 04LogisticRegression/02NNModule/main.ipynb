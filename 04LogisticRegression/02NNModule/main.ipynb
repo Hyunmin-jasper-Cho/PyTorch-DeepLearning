{
 "cells": [
  {
   "cell_type": "code",
   "execution_count": 1,
   "metadata": {},
   "outputs": [],
   "source": [
    "import torch\n",
    "import torch.nn.functional as F\n",
    "import torch.optim as optim"
   ]
  },
  {
   "cell_type": "code",
   "execution_count": 2,
   "metadata": {},
   "outputs": [],
   "source": [
    "from torch.utils.data import DataLoader, TensorDataset\n",
    "\n",
    "def get_data():\n",
    "    x_data = [[1, 2], [2, 3], [3, 1], [4, 3], [5, 3], [6, 2]]\n",
    "    y_data = [[0], [0], [0], [1], [1], [1]]\n",
    "    x_train = torch.FloatTensor(x_data)\n",
    "    y_train = torch.FloatTensor(y_data)\n",
    "    \n",
    "    return DataLoader(dataset=TensorDataset(x_train, y_train), batch_size=2, shuffle=True)"
   ]
  },
  {
   "cell_type": "code",
   "execution_count": 3,
   "metadata": {},
   "outputs": [],
   "source": [
    "model = torch.nn.Sequential(\n",
    "    torch.nn.Linear(2, 1), \n",
    "    torch.nn.Sigmoid()\n",
    ")\n",
    "\n",
    "# torch 로 model 을 정의-> 가중치 자동 생성\n",
    "optimizer = optim.SGD(model.parameters(), lr=1)\n"
   ]
  },
  {
   "cell_type": "code",
   "execution_count": 4,
   "metadata": {},
   "outputs": [
    {
     "name": "stdout",
     "output_type": "stream",
     "text": [
      "Epoch:    0/100000, loss: 0.2564 \n",
      "Epoch: 10000/100000, loss: 0.0013 \n",
      "Epoch: 20000/100000, loss: 0.0004 \n",
      "Epoch: 30000/100000, loss: 0.0003 \n",
      "Epoch: 40000/100000, loss: 0.0000 \n",
      "Epoch: 50000/100000, loss: 0.0000 \n",
      "Epoch: 60000/100000, loss: 0.0000 \n",
      "Epoch: 70000/100000, loss: 0.0001 \n",
      "Epoch: 80000/100000, loss: 0.0002 \n",
      "Epoch: 90000/100000, loss: 0.0000 \n",
      "Epoch: 100000/100000, loss: 0.0001 \n"
     ]
    }
   ],
   "source": [
    "epochs = 100000\n",
    "loader = get_data()\n",
    "\n",
    "for epoch in range(1 + epochs):\n",
    "    loss = None\n",
    "    for batch_idx, data in enumerate(loader):\n",
    "        X, y = data\n",
    "        forward = model(X)\n",
    "        loss = F.binary_cross_entropy(forward, y)\n",
    "\n",
    "        optimizer.zero_grad()\n",
    "        loss.backward()\n",
    "        optimizer.step()\n",
    "\n",
    "    assert loss is not None\n",
    "    if epoch % 10000 == 0:\n",
    "        print(f'Epoch: {epoch:4d}/{epochs:4d}, loss: {loss.item():.4f} ')"
   ]
  },
  {
   "cell_type": "code",
   "execution_count": 5,
   "metadata": {},
   "outputs": [
    {
     "name": "stdout",
     "output_type": "stream",
     "text": [
      "tensor([[2.1881e-10],\n",
      "        [1.1948e-04],\n",
      "        [1.3939e-04],\n",
      "        [9.9983e-01],\n",
      "        [1.0000e+00],\n",
      "        [1.0000e+00]], grad_fn=<SigmoidBackward0>)\n",
      "tensor([[False],\n",
      "        [False],\n",
      "        [False],\n",
      "        [ True],\n",
      "        [ True],\n",
      "        [ True]])\n",
      "Accuracy: 100.0\n"
     ]
    }
   ],
   "source": [
    "X = torch.FloatTensor([[1, 2], [2, 3], [3, 1], [4, 3], [5, 3], [6, 2]])\n",
    "y = torch.FloatTensor([[0], [0], [0], [1], [1], [1]])\n",
    "\n",
    "pred = model(X)\n",
    "print(pred)\n",
    "pred = pred >= torch.FloatTensor([0.5])\n",
    "print(pred)\n",
    "correct_classification = pred.float() == y\n",
    "\n",
    "accuracy = correct_classification.sum().item() / len(correct_classification)\n",
    "print(f'Accuracy: {accuracy * 100}')"
   ]
  }
 ],
 "metadata": {
  "kernelspec": {
   "display_name": "Python 3.10.4 ('torchEnv')",
   "language": "python",
   "name": "python3"
  },
  "language_info": {
   "codemirror_mode": {
    "name": "ipython",
    "version": 3
   },
   "file_extension": ".py",
   "mimetype": "text/x-python",
   "name": "python",
   "nbconvert_exporter": "python",
   "pygments_lexer": "ipython3",
   "version": "3.10.4"
  },
  "orig_nbformat": 4,
  "vscode": {
   "interpreter": {
    "hash": "88d943a007d2125a0b14d68c169cdc93803a522f9f1f0256c556fb2c659dfa57"
   }
  }
 },
 "nbformat": 4,
 "nbformat_minor": 2
}
