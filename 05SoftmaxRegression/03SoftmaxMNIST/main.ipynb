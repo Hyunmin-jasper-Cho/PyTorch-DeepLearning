{
 "cells": [
  {
   "cell_type": "markdown",
   "metadata": {},
   "source": [
    "## MNIST download from torchvision"
   ]
  },
  {
   "cell_type": "code",
   "execution_count": 1,
   "metadata": {},
   "outputs": [],
   "source": [
    "import torch\n",
    "import torchvision.datasets as dsets\n",
    "import torchvision.transforms as transforms\n",
    "\n",
    "from torch.utils.data import DataLoader\n",
    "import torch.nn as nn\n",
    "import matplotlib.pyplot as plt\n",
    "import random"
   ]
  },
  {
   "cell_type": "code",
   "execution_count": 2,
   "metadata": {},
   "outputs": [
    {
     "name": "stdout",
     "output_type": "stream",
     "text": [
      "Train using: mps\n"
     ]
    }
   ],
   "source": [
    "device = torch.device('mps')\n",
    "print(f'Train using: {device}')"
   ]
  },
  {
   "cell_type": "code",
   "execution_count": 3,
   "metadata": {},
   "outputs": [],
   "source": [
    "epochs = 100\n",
    "batch_size = 100"
   ]
  },
  {
   "cell_type": "code",
   "execution_count": 4,
   "metadata": {},
   "outputs": [],
   "source": [
    "mnist_train = dsets.MNIST(root='MNIST_data/',\n",
    "                          train=True,\n",
    "                          transform=transforms.ToTensor(),\n",
    "                          download=True)\n",
    "\n",
    "mnist_test = dsets.MNIST(root='MNIST_data/',\n",
    "                         train=False,\n",
    "                         transform=transforms.ToTensor(),\n",
    "                         download=True)"
   ]
  },
  {
   "cell_type": "code",
   "execution_count": 5,
   "metadata": {},
   "outputs": [
    {
     "data": {
      "text/plain": [
       "'\\nWhy drop_last = True? \\n-> drop_last를 하는 이유를 이해하기 위해서 1,000개의 데이터가 있다고 했을 때, 배치 크기가 128이라고 해봅시다. \\n1,000을 128로 나누면 총 7개가 나오고 나머지로 104개가 남습니다. \\n이때 104개를 마지막 배치로 한다고 하였을 때 128개를 충족하지 못하였으므로 104개를 그냥 버릴 수도 있습니다. \\n이때 마지막 배치를 버리려면 drop_last=True를 해주면 됩니다. \\n이는 다른 미니 배치보다 개수가 적은 마지막 배치를 경사 하강법에 사용하여 마지막 배치가 상대적으로 과대 평가되는 현상을 막아줍니다.\\n'"
      ]
     },
     "execution_count": 5,
     "metadata": {},
     "output_type": "execute_result"
    }
   ],
   "source": [
    "loader = DataLoader(dataset=mnist_train, batch_size=batch_size, shuffle=True, drop_last=True)\n",
    "\n",
    "\"\"\"\n",
    "Why drop_last = True? \n",
    "-> drop_last를 하는 이유를 이해하기 위해서 1,000개의 데이터가 있다고 했을 때, 배치 크기가 128이라고 해봅시다. \n",
    "1,000을 128로 나누면 총 7개가 나오고 나머지로 104개가 남습니다. \n",
    "이때 104개를 마지막 배치로 한다고 하였을 때 128개를 충족하지 못하였으므로 104개를 그냥 버릴 수도 있습니다. \n",
    "이때 마지막 배치를 버리려면 drop_last=True를 해주면 됩니다. \n",
    "이는 다른 미니 배치보다 개수가 적은 마지막 배치를 경사 하강법에 사용하여 마지막 배치가 상대적으로 과대 평가되는 현상을 막아줍니다.\n",
    "\"\"\""
   ]
  },
  {
   "cell_type": "markdown",
   "metadata": {},
   "source": [
    "## Model"
   ]
  },
  {
   "cell_type": "code",
   "execution_count": 6,
   "metadata": {},
   "outputs": [],
   "source": [
    "linear = nn.Linear(784, 10, bias=True).to(device)\n",
    "criterion = nn.CrossEntropyLoss().to(device)\n",
    "optimizer = torch.optim.SGD(linear.parameters(), lr=0.1)"
   ]
  },
  {
   "cell_type": "code",
   "execution_count": 7,
   "metadata": {},
   "outputs": [
    {
     "name": "stdout",
     "output_type": "stream",
     "text": [
      "Epochs:    0/ 100, loss: 0.635305 \n",
      "Epochs:    1/ 100, loss: 0.228254 \n",
      "Epochs:    2/ 100, loss: 0.424329 \n",
      "Epochs:    3/ 100, loss: 0.176563 \n",
      "Epochs:    4/ 100, loss: 0.364699 \n",
      "Epochs:    5/ 100, loss: 0.350599 \n",
      "Epochs:    6/ 100, loss: 0.324628 \n",
      "Epochs:    7/ 100, loss: 0.206336 \n",
      "Epochs:    8/ 100, loss: 0.296542 \n",
      "Epochs:    9/ 100, loss: 0.223997 \n",
      "Epochs:   10/ 100, loss: 0.234409 \n",
      "Epochs:   11/ 100, loss: 0.419023 \n",
      "Epochs:   12/ 100, loss: 0.252132 \n",
      "Epochs:   13/ 100, loss: 0.167446 \n",
      "Epochs:   14/ 100, loss: 0.199012 \n",
      "Epochs:   15/ 100, loss: 0.231792 \n",
      "Epochs:   16/ 100, loss: 0.219995 \n",
      "Epochs:   17/ 100, loss: 0.266404 \n",
      "Epochs:   18/ 100, loss: 0.291756 \n",
      "Epochs:   19/ 100, loss: 0.158132 \n",
      "Epochs:   20/ 100, loss: 0.275450 \n",
      "Epochs:   21/ 100, loss: 0.211971 \n",
      "Epochs:   22/ 100, loss: 0.249947 \n",
      "Epochs:   23/ 100, loss: 0.231550 \n",
      "Epochs:   24/ 100, loss: 0.318432 \n",
      "Epochs:   25/ 100, loss: 0.189249 \n",
      "Epochs:   26/ 100, loss: 0.347133 \n",
      "Epochs:   27/ 100, loss: 0.275720 \n",
      "Epochs:   28/ 100, loss: 0.227257 \n",
      "Epochs:   29/ 100, loss: 0.287904 \n",
      "Epochs:   30/ 100, loss: 0.169894 \n",
      "Epochs:   31/ 100, loss: 0.222484 \n",
      "Epochs:   32/ 100, loss: 0.176587 \n",
      "Epochs:   33/ 100, loss: 0.279437 \n",
      "Epochs:   34/ 100, loss: 0.305552 \n",
      "Epochs:   35/ 100, loss: 0.404164 \n",
      "Epochs:   36/ 100, loss: 0.150520 \n",
      "Epochs:   37/ 100, loss: 0.118640 \n",
      "Epochs:   38/ 100, loss: 0.216181 \n",
      "Epochs:   39/ 100, loss: 0.214308 \n",
      "Epochs:   40/ 100, loss: 0.327342 \n",
      "Epochs:   41/ 100, loss: 0.294412 \n",
      "Epochs:   42/ 100, loss: 0.324542 \n",
      "Epochs:   43/ 100, loss: 0.484070 \n",
      "Epochs:   44/ 100, loss: 0.201783 \n",
      "Epochs:   45/ 100, loss: 0.282103 \n",
      "Epochs:   46/ 100, loss: 0.151516 \n",
      "Epochs:   47/ 100, loss: 0.102144 \n",
      "Epochs:   48/ 100, loss: 0.160755 \n",
      "Epochs:   49/ 100, loss: 0.245367 \n",
      "Epochs:   50/ 100, loss: 0.234907 \n",
      "Epochs:   51/ 100, loss: 0.138905 \n",
      "Epochs:   52/ 100, loss: 0.125513 \n",
      "Epochs:   53/ 100, loss: 0.121451 \n",
      "Epochs:   54/ 100, loss: 0.132818 \n",
      "Epochs:   55/ 100, loss: 0.352440 \n",
      "Epochs:   56/ 100, loss: 0.400756 \n",
      "Epochs:   57/ 100, loss: 0.557317 \n",
      "Epochs:   58/ 100, loss: 0.191180 \n",
      "Epochs:   59/ 100, loss: 0.221051 \n",
      "Epochs:   60/ 100, loss: 0.419294 \n",
      "Epochs:   61/ 100, loss: 0.227523 \n",
      "Epochs:   62/ 100, loss: 0.270497 \n",
      "Epochs:   63/ 100, loss: 0.324991 \n",
      "Epochs:   64/ 100, loss: 0.298088 \n",
      "Epochs:   65/ 100, loss: 0.395952 \n",
      "Epochs:   66/ 100, loss: 0.251809 \n",
      "Epochs:   67/ 100, loss: 0.299084 \n",
      "Epochs:   68/ 100, loss: 0.336015 \n",
      "Epochs:   69/ 100, loss: 0.220537 \n",
      "Epochs:   70/ 100, loss: 0.273173 \n",
      "Epochs:   71/ 100, loss: 0.141717 \n",
      "Epochs:   72/ 100, loss: 0.214908 \n",
      "Epochs:   73/ 100, loss: 0.243981 \n",
      "Epochs:   74/ 100, loss: 0.218204 \n",
      "Epochs:   75/ 100, loss: 0.285735 \n",
      "Epochs:   76/ 100, loss: 0.217050 \n",
      "Epochs:   77/ 100, loss: 0.156747 \n",
      "Epochs:   78/ 100, loss: 0.317904 \n",
      "Epochs:   79/ 100, loss: 0.228154 \n",
      "Epochs:   80/ 100, loss: 0.147586 \n",
      "Epochs:   81/ 100, loss: 0.180682 \n",
      "Epochs:   82/ 100, loss: 0.312574 \n",
      "Epochs:   83/ 100, loss: 0.269010 \n",
      "Epochs:   84/ 100, loss: 0.447109 \n",
      "Epochs:   85/ 100, loss: 0.338000 \n",
      "Epochs:   86/ 100, loss: 0.200234 \n",
      "Epochs:   87/ 100, loss: 0.403534 \n",
      "Epochs:   88/ 100, loss: 0.182438 \n",
      "Epochs:   89/ 100, loss: 0.205880 \n",
      "Epochs:   90/ 100, loss: 0.090158 \n",
      "Epochs:   91/ 100, loss: 0.404278 \n",
      "Epochs:   92/ 100, loss: 0.324778 \n",
      "Epochs:   93/ 100, loss: 0.248635 \n",
      "Epochs:   94/ 100, loss: 0.203188 \n",
      "Epochs:   95/ 100, loss: 0.140140 \n",
      "Epochs:   96/ 100, loss: 0.327924 \n",
      "Epochs:   97/ 100, loss: 0.356230 \n",
      "Epochs:   98/ 100, loss: 0.390000 \n",
      "Epochs:   99/ 100, loss: 0.179776 \n",
      "Epochs:  100/ 100, loss: 0.313679 \n",
      "Learning finished\n"
     ]
    }
   ],
   "source": [
    "for epoch in range(1 + epochs):\n",
    "    avg_loss = 0.0\n",
    "    total_batch = len(loader)\n",
    "\n",
    "    for X, y in loader:\n",
    "        # X.size = (100, 784)\n",
    "        # Y.size = (100, 784)\n",
    "        X = X.view(-1, 28 * 28).to(device)\n",
    "        y = y.to(device)\n",
    "\n",
    "        optimizer.zero_grad()\n",
    "        forward = linear(X)\n",
    "        loss = criterion(forward, y)\n",
    "        loss.backward()\n",
    "        optimizer.step()\n",
    "\n",
    "        avg_loss += loss / total_batch\n",
    "\n",
    "    print(f'Epochs: {epoch:4d}/{epochs:4d}, loss: {loss:.6f} ')\n",
    "\n",
    "print(f'Learning finished')\n"
   ]
  },
  {
   "cell_type": "code",
   "execution_count": 8,
   "metadata": {},
   "outputs": [
    {
     "name": "stdout",
     "output_type": "stream",
     "text": [
      "Accuracy:  tensor(0.8676, device='mps:0')\n",
      "Label:  0\n",
      "Prediction:  7\n"
     ]
    },
    {
     "data": {
      "image/png": "[encoded data removed]",
      "text/plain": [
       "<Figure size 640x480 with 1 Axes>"
      ]
     },
     "metadata": {},
     "output_type": "display_data"
    }
   ],
   "source": [
    "import warnings\n",
    "warnings.filterwarnings(\"ignore\")\n",
    "\n",
    "with torch.no_grad():\n",
    "    x_test = mnist_test.test_data.view(-1, 784).float().to(device)\n",
    "    y_test = mnist_test.test_labels.to(device)\n",
    "\n",
    "    pred = linear(x_test)\n",
    "    corr = torch.argmax(pred, 1) == y_test\n",
    "    acc = corr.float().mean()\n",
    "    print('Accuracy: ', acc)\n",
    "\n",
    "    r = random.randint(0, len(mnist_test) - 1)\n",
    "    X_single_data = mnist_test.test_data[r:r + 1].view(-1, 28 * 28).float().to(device)\n",
    "    Y_single_data = mnist_test.test_labels[r:r + 1].to(device)\n",
    "\n",
    "    print('Label: ', Y_single_data.item())\n",
    "    single_prediction = linear(X_single_data)\n",
    "    print('Prediction: ', torch.argmax(single_prediction, 1).item())\n",
    "\n",
    "    plt.imshow(mnist_test.test_data[r:r + 1].view(28, 28), cmap='Greys', interpolation='nearest')\n",
    "    plt.show()"
   ]
  }
 ],
 "metadata": {
  "kernelspec": {
   "display_name": "Python 3.10.4 ('torchEnv')",
   "language": "python",
   "name": "python3"
  },
  "language_info": {
   "codemirror_mode": {
    "name": "ipython",
    "version": 3
   },
   "file_extension": ".py",
   "mimetype": "text/x-python",
   "name": "python",
   "nbconvert_exporter": "python",
   "pygments_lexer": "ipython3",
   "version": "3.10.4"
  },
  "orig_nbformat": 4,
  "vscode": {
   "interpreter": {
    "hash": "88d943a007d2125a0b14d68c169cdc93803a522f9f1f0256c556fb2c659dfa57"
   }
  }
 },
 "nbformat": 4,
 "nbformat_minor": 2
}
