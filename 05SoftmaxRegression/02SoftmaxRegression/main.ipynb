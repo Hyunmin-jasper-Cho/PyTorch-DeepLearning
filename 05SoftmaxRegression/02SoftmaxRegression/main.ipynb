{
 "cells": [
  {
   "cell_type": "markdown",
   "metadata": {},
   "source": [
    "![soft_conversion](./figs/soft_conv.png)"
   ]
  },
  {
   "cell_type": "code",
   "execution_count": 1,
   "metadata": {},
   "outputs": [
    {
     "data": {
      "text/plain": [
       "<torch._C.Generator at 0x10633cdf0>"
      ]
     },
     "execution_count": 1,
     "metadata": {},
     "output_type": "execute_result"
    }
   ],
   "source": [
    "import torch\n",
    "import torch.nn as nn\n",
    "import torch.nn.functional as F\n",
    "\n",
    "torch.manual_seed(1)"
   ]
  },
  {
   "cell_type": "code",
   "execution_count": 3,
   "metadata": {},
   "outputs": [],
   "source": [
    "from torch.utils.data import DataLoader, TensorDataset\n",
    "\n",
    "def get_data():\n",
    "    x_train = [[1, 2, 1, 1],\n",
    "           [2, 1, 3, 2],\n",
    "           [3, 1, 3, 4],\n",
    "           [4, 1, 5, 5],\n",
    "           [1, 7, 5, 5],\n",
    "           [1, 2, 5, 6],\n",
    "           [1, 6, 6, 6],\n",
    "           [1, 7, 7, 7]]\n",
    "    y_train = [2, 2, 2, 1, 1, 1, 0, 0]\n",
    "    x_train = torch.FloatTensor(x_train)\n",
    "    y_train = torch.LongTensor(y_train)\n",
    "\n",
    "    # one hot encoding for y\n",
    "    y_one_hot = torch.zeros(8, 3)\n",
    "    y_one_hot.scatter_(1, y_train.unsqueeze(1), 1)\n",
    "\n",
    "    return DataLoader(dataset=TensorDataset(x_train, y_one_hot), batch_size=2, shuffle=True)"
   ]
  },
  {
   "cell_type": "markdown",
   "metadata": {},
   "source": [
    "## Low level softmax"
   ]
  },
  {
   "cell_type": "code",
   "execution_count": 5,
   "metadata": {},
   "outputs": [],
   "source": [
    "W = torch.zeros((4, 3), requires_grad=True)\n",
    "b = torch.zeros(1, requires_grad=True)\n",
    "\n",
    "optim = torch.optim.SGD([W, b], lr=0.1)"
   ]
  },
  {
   "cell_type": "code",
   "execution_count": 6,
   "metadata": {},
   "outputs": [
    {
     "name": "stdout",
     "output_type": "stream",
     "text": [
      "Epoch:    0/100000, loss: 5.8315 \n",
      "Epoch: 10000/100000, loss: 0.0138 \n",
      "Epoch: 20000/100000, loss: 0.0115 \n",
      "Epoch: 30000/100000, loss: 0.0078 \n",
      "Epoch: 40000/100000, loss: 0.0026 \n",
      "Epoch: 50000/100000, loss: 0.0011 \n",
      "Epoch: 60000/100000, loss: 0.0000 \n",
      "Epoch: 70000/100000, loss: 0.0037 \n",
      "Epoch: 80000/100000, loss: 0.0017 \n",
      "Epoch: 90000/100000, loss: 0.0015 \n",
      "Epoch: 100000/100000, loss: nan \n"
     ]
    }
   ],
   "source": [
    "epochs = 100000\n",
    "loader = get_data()\n",
    "\n",
    "for epoch in range(1 + epochs):\n",
    "    for data in loader:\n",
    "        X, y = data\n",
    "\n",
    "        forward = F.softmax(torch.matmul(X, W) + b, dim=1)\n",
    "        loss = (y * -torch.log(forward)).sum(dim=1).mean()\n",
    "\n",
    "        optim.zero_grad()\n",
    "        loss.backward()\n",
    "        optim.step()\n",
    "\n",
    "    if epoch % 10000 == 0:\n",
    "        print(f'Epoch: {epoch:4d}/{epochs:4d}, loss: {loss:.4f} ')\n"
   ]
  },
  {
   "cell_type": "markdown",
   "metadata": {},
   "source": [
    "## High level softmax"
   ]
  },
  {
   "cell_type": "code",
   "execution_count": 7,
   "metadata": {},
   "outputs": [],
   "source": [
    "W = torch.zeros((4, 3), requires_grad=True)\n",
    "b = torch.zeros(1, requires_grad=True)\n",
    "\n",
    "optim = torch.optim.SGD([W, b], lr=0.1)"
   ]
  },
  {
   "cell_type": "code",
   "execution_count": 8,
   "metadata": {},
   "outputs": [
    {
     "name": "stdout",
     "output_type": "stream",
     "text": [
      "Epoch:    0/100000, loss: 11.5029 \n",
      "Epoch: 10000/100000, loss: 0.0144 \n",
      "Epoch: 20000/100000, loss: 0.0063 \n",
      "Epoch: 30000/100000, loss: 0.0078 \n",
      "Epoch: 40000/100000, loss: 0.0001 \n",
      "Epoch: 50000/100000, loss: 0.0027 \n",
      "Epoch: 60000/100000, loss: 0.0018 \n",
      "Epoch: 70000/100000, loss: 0.0020 \n",
      "Epoch: 80000/100000, loss: 0.0014 \n",
      "Epoch: 90000/100000, loss: 0.0012 \n",
      "Epoch: 100000/100000, loss: 0.0024 \n"
     ]
    }
   ],
   "source": [
    "epochs = 100000\n",
    "loader = get_data()\n",
    "\n",
    "for epoch in range(1 + epochs):\n",
    "    for data in loader:\n",
    "        X, y = data\n",
    "\n",
    "        z = torch.matmul(X, W) + b\n",
    "        loss = F.cross_entropy(z, y)\n",
    "\n",
    "        optim.zero_grad()\n",
    "        loss.backward()\n",
    "        optim.step()\n",
    "\n",
    "    if epoch % 10000 == 0:\n",
    "        print(f'Epoch: {epoch:4d}/{epochs:4d}, loss: {loss:.4f} ')\n"
   ]
  }
 ],
 "metadata": {
  "kernelspec": {
   "display_name": "Python 3.10.4 ('torchEnv')",
   "language": "python",
   "name": "python3"
  },
  "language_info": {
   "codemirror_mode": {
    "name": "ipython",
    "version": 3
   },
   "file_extension": ".py",
   "mimetype": "text/x-python",
   "name": "python",
   "nbconvert_exporter": "python",
   "pygments_lexer": "ipython3",
   "version": "3.10.4"
  },
  "orig_nbformat": 4,
  "vscode": {
   "interpreter": {
    "hash": "88d943a007d2125a0b14d68c169cdc93803a522f9f1f0256c556fb2c659dfa57"
   }
  }
 },
 "nbformat": 4,
 "nbformat_minor": 2
}
